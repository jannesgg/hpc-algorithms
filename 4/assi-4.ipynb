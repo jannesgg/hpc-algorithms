{
 "cells": [
  {
   "cell_type": "code",
   "execution_count": 139,
   "metadata": {},
   "outputs": [],
   "source": [
    "from pyspark import SparkContext\n",
    "import math"
   ]
  },
  {
   "cell_type": "code",
   "execution_count": 140,
   "metadata": {},
   "outputs": [],
   "source": [
    "sc.stop()\n",
    "sc = SparkContext(master = 'local[4]')"
   ]
  },
  {
   "cell_type": "code",
   "execution_count": 141,
   "metadata": {},
   "outputs": [],
   "source": [
    "data = sc.textFile('output_small.txt')"
   ]
  },
  {
   "cell_type": "code",
   "execution_count": 142,
   "metadata": {},
   "outputs": [
    {
     "data": {
      "text/plain": [
       "({0: 103, 1: 106, 2: 97, 3: 95, 4: 101, 5: 109, 6: 105, 7: 98, 8: 93, 9: 93},\n",
       " {'Overall Max': 0.999888,\n",
       "  'Overall Min': 0.000865,\n",
       "  'Total Mean': 0.49125468000000005,\n",
       "  'Total StdDev': 0.28653671316538326})"
      ]
     },
     "execution_count": 142,
     "metadata": {},
     "output_type": "execute_result"
    }
   ],
   "source": [
    "### together with computation of mean, std, min and max\n",
    "### bin count with reduceByKey\n",
    "# global variables\n",
    "\n",
    "nr_bins = 10\n",
    "v_min = 0.0\n",
    "v_max = 1.0\n",
    "binwidth = (v_max - v_min) / nr_bins\n",
    "hist_bins = {}\n",
    "\n",
    "def read_data(line):\n",
    "    value = float(line.split()[-1])\n",
    "    return value\n",
    "\n",
    "def distribute_data(value):\n",
    "    ### wrong calculation of the bin if have value<min or >max\n",
    "    if value < v_min:\n",
    "        bin_nr = 0\n",
    "    elif value > v_max:\n",
    "        bin_nr = nr_bins - 1\n",
    "    else:\n",
    "        bin_nr = int((value - v_min) / binwidth)\n",
    "    return (bin_nr, (1,value,value**2, value,value))\n",
    "\n",
    "def summary_stats(value1, value2):\n",
    "    bin_min = min(value1[3], value2[3])\n",
    "    bin_max = max(value1[4], value2[4])\n",
    "    bin_sum = value1[1]+value2[1]\n",
    "    bin_sos = value1[2] + value2[2]\n",
    "    bin_count = value1[0] + value2[0]\n",
    "    \n",
    "    return (bin_count, bin_sum,bin_sos,bin_min,bin_max)\n",
    "    \n",
    "\n",
    "def output(bin_sum):\n",
    "    \"\"\"\n",
    "    bin_sum: summary stats of each bin\n",
    "    return: summary stats histogram info of the data\n",
    "    \"\"\"\n",
    "    histogram = {}\n",
    "    n_total = 0\n",
    "    sum_total = 0\n",
    "    sos_total = 0 #total sum of squares\n",
    "    min_list = []\n",
    "    max_list = []\n",
    "    \n",
    "    for i in range(len(bin_sum)):\n",
    "        histogram[bin_sum[i][0]] = bin_sum[i][1][0]\n",
    "        n_total += bin_sum[i][1][0]\n",
    "        sum_total += bin_sum[i][1][1]\n",
    "        sos_total += bin_sum[i][1][2]\n",
    "        min_list.append(bin_sum[i][1][3])\n",
    "        max_list.append(bin_sum[i][1][4])\n",
    "    \n",
    "    total_mean = sum_total / n_total    \n",
    "    total_var = sos_total/(n_total-1) - total_mean*total_mean*n_total/(n_total-1)\n",
    "    total_std = math.sqrt(total_var)\n",
    "    total_min = min(min_list)\n",
    "    total_max = max(max_list)\n",
    "    return histogram, {'Total Mean': total_mean, 'Total StdDev': total_std,\n",
    "                       'Overall Min': total_min, 'Overall Max': total_max}\n",
    "\n",
    "values = data.map(read_data)\n",
    "binNr_v_pairs = values.map(distribute_data)\n",
    "bin_counts = binNr_v_pairs.reduceByKey(summary_stats)\\\n",
    "            .sortByKey()\n",
    "bin_sum = bin_counts.collect()\n",
    "output(bin_sum)"
   ]
  },
  {
   "cell_type": "code",
   "execution_count": null,
   "metadata": {},
   "outputs": [],
   "source": []
  }
 ],
 "metadata": {
  "kernelspec": {
   "display_name": "Python 3",
   "language": "python",
   "name": "python3"
  },
  "language_info": {
   "codemirror_mode": {
    "name": "ipython",
    "version": 3
   },
   "file_extension": ".py",
   "mimetype": "text/x-python",
   "name": "python",
   "nbconvert_exporter": "python",
   "pygments_lexer": "ipython3",
   "version": "3.6.3"
  }
 },
 "nbformat": 4,
 "nbformat_minor": 2
}
