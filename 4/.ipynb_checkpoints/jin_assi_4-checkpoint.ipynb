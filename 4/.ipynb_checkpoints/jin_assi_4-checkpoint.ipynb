{
 "cells": [
  {
   "cell_type": "code",
   "execution_count": 2,
   "metadata": {},
   "outputs": [],
   "source": [
    "import findspark\n",
    "findspark.init()\n",
    "from pyspark import SparkContext"
   ]
  },
  {
   "cell_type": "code",
   "execution_count": 33,
   "metadata": {},
   "outputs": [],
   "source": [
    "sc.stop()\n",
    "sc = SparkContext(master = 'local[2]')"
   ]
  },
  {
   "cell_type": "code",
   "execution_count": 49,
   "metadata": {},
   "outputs": [],
   "source": [
    "data = sc.textFile('output_small.txt')"
   ]
  },
  {
   "cell_type": "code",
   "execution_count": 30,
   "metadata": {},
   "outputs": [],
   "source": [
    "### bin count with countByKey\n",
    "\n",
    "# global variables\n",
    "nr_bins = 10\n",
    "v_min = 0.0\n",
    "v_max = 1.0\n",
    "binwidth = (v_max - v_min) / nr_bins\n",
    "\n",
    "def read_data(line):\n",
    "    value = float(line.split()[-1])\n",
    "    return value\n",
    "\n",
    "def distribute_data(value):\n",
    "    ### wrong calculation of the bin if have value<min or >max\n",
    "    if value < v_min:\n",
    "        bin_nr = 0\n",
    "    elif value > v_max:\n",
    "        bin_nr = nr_bins - 1\n",
    "    else:\n",
    "        bin_nr = int((value - v_min) / binwidth)\n",
    "    return (bin_nr, 1)\n",
    "\n",
    "values = data.map(read_data)\n",
    "binNr_v_pairs = values.map(distribute_data)\n",
    "bin_counts = binNr_v_pairs.countByKey()"
   ]
  },
  {
   "cell_type": "code",
   "execution_count": 32,
   "metadata": {},
   "outputs": [
    {
     "name": "stdout",
     "output_type": "stream",
     "text": [
      "defaultdict(<class 'int'>, {0: 103, 1: 106, 2: 97, 3: 95, 4: 101, 5: 109, 6: 105, 7: 98, 8: 93, 9: 93})\n"
     ]
    }
   ],
   "source": [
    "print(bin_counts)"
   ]
  },
  {
   "cell_type": "code",
   "execution_count": 36,
   "metadata": {},
   "outputs": [],
   "source": [
    "### bin count with reduceByKey\n",
    "# global variables\n",
    "nr_bins = 10\n",
    "v_min = 0.0\n",
    "v_max = 1.0\n",
    "binwidth = (v_max - v_min) / nr_bins\n",
    "\n",
    "def read_data(line):\n",
    "    value = float(line.split()[-1])\n",
    "    return value\n",
    "\n",
    "def distribute_data(value):\n",
    "    ### wrong calculation of the bin if have value<min or >max\n",
    "    if value < v_min:\n",
    "        bin_nr = 0\n",
    "    elif value > v_max:\n",
    "        bin_nr = nr_bins - 1\n",
    "    else:\n",
    "        bin_nr = int((value - v_min) / binwidth)\n",
    "    return (bin_nr, 1)\n",
    "\n",
    "values = data.map(read_data)\n",
    "binNr_v_pairs = values.map(distribute_data)\n",
    "bin_counts = binNr_v_pairs.reduceByKey(lambda a, b: a + b)\\\n",
    "            .sortByKey()"
   ]
  },
  {
   "cell_type": "code",
   "execution_count": 37,
   "metadata": {},
   "outputs": [
    {
     "name": "stdout",
     "output_type": "stream",
     "text": [
      "[(0, 103), (1, 106), (2, 97), (3, 95), (4, 101), (5, 109), (6, 105), (7, 98), (8, 93), (9, 93)]\n"
     ]
    }
   ],
   "source": [
    "print(bin_counts.collect())"
   ]
  },
  {
   "cell_type": "code",
   "execution_count": 16,
   "metadata": {},
   "outputs": [],
   "source": [
    "import pandas as pd"
   ]
  },
  {
   "cell_type": "code",
   "execution_count": 47,
   "metadata": {},
   "outputs": [
    {
     "data": {
      "text/html": [
       "<div>\n",
       "<style>\n",
       "    .dataframe thead tr:only-child th {\n",
       "        text-align: right;\n",
       "    }\n",
       "\n",
       "    .dataframe thead th {\n",
       "        text-align: left;\n",
       "    }\n",
       "\n",
       "    .dataframe tbody tr th {\n",
       "        vertical-align: top;\n",
       "    }\n",
       "</style>\n",
       "<table border=\"1\" class=\"dataframe\">\n",
       "  <thead>\n",
       "    <tr style=\"text-align: right;\">\n",
       "      <th></th>\n",
       "      <th>id</th>\n",
       "      <th>group</th>\n",
       "      <th>value</th>\n",
       "    </tr>\n",
       "  </thead>\n",
       "  <tbody>\n",
       "    <tr>\n",
       "      <th>count</th>\n",
       "      <td>1000.000000</td>\n",
       "      <td>1000.00000</td>\n",
       "      <td>1000.000000</td>\n",
       "    </tr>\n",
       "    <tr>\n",
       "      <th>mean</th>\n",
       "      <td>504.813000</td>\n",
       "      <td>4.98000</td>\n",
       "      <td>0.491255</td>\n",
       "    </tr>\n",
       "    <tr>\n",
       "      <th>std</th>\n",
       "      <td>296.072533</td>\n",
       "      <td>3.15556</td>\n",
       "      <td>0.286537</td>\n",
       "    </tr>\n",
       "    <tr>\n",
       "      <th>min</th>\n",
       "      <td>1.000000</td>\n",
       "      <td>0.00000</td>\n",
       "      <td>0.000865</td>\n",
       "    </tr>\n",
       "    <tr>\n",
       "      <th>25%</th>\n",
       "      <td>240.500000</td>\n",
       "      <td>2.00000</td>\n",
       "      <td>0.241735</td>\n",
       "    </tr>\n",
       "    <tr>\n",
       "      <th>50%</th>\n",
       "      <td>515.500000</td>\n",
       "      <td>5.00000</td>\n",
       "      <td>0.498690</td>\n",
       "    </tr>\n",
       "    <tr>\n",
       "      <th>75%</th>\n",
       "      <td>770.250000</td>\n",
       "      <td>8.00000</td>\n",
       "      <td>0.736645</td>\n",
       "    </tr>\n",
       "    <tr>\n",
       "      <th>max</th>\n",
       "      <td>1000.000000</td>\n",
       "      <td>10.00000</td>\n",
       "      <td>0.999888</td>\n",
       "    </tr>\n",
       "  </tbody>\n",
       "</table>\n",
       "</div>"
      ],
      "text/plain": [
       "                id       group        value\n",
       "count  1000.000000  1000.00000  1000.000000\n",
       "mean    504.813000     4.98000     0.491255\n",
       "std     296.072533     3.15556     0.286537\n",
       "min       1.000000     0.00000     0.000865\n",
       "25%     240.500000     2.00000     0.241735\n",
       "50%     515.500000     5.00000     0.498690\n",
       "75%     770.250000     8.00000     0.736645\n",
       "max    1000.000000    10.00000     0.999888"
      ]
     },
     "execution_count": 47,
     "metadata": {},
     "output_type": "execute_result"
    }
   ],
   "source": [
    "col_names = ['id','group','value']\n",
    "data = pd.read_csv(\"output_small.txt\", sep='\\t',header=None, names=col_names)\n",
    "data.describe()"
   ]
  },
  {
   "cell_type": "code",
   "execution_count": 18,
   "metadata": {},
   "outputs": [
    {
     "data": {
      "text/plain": [
       "103"
      ]
     },
     "execution_count": 18,
     "metadata": {},
     "output_type": "execute_result"
    }
   ],
   "source": [
    "data[(data['value']>=0) & (data['value']<0.1)].count()['value']"
   ]
  },
  {
   "cell_type": "code",
   "execution_count": 19,
   "metadata": {},
   "outputs": [
    {
     "data": {
      "text/plain": [
       "106"
      ]
     },
     "execution_count": 19,
     "metadata": {},
     "output_type": "execute_result"
    }
   ],
   "source": [
    "data[(data['value']>=0.1) & (data['value']<0.2)].count()['value']"
   ]
  },
  {
   "cell_type": "code",
   "execution_count": 21,
   "metadata": {},
   "outputs": [
    {
     "data": {
      "text/plain": [
       "93"
      ]
     },
     "execution_count": 21,
     "metadata": {},
     "output_type": "execute_result"
    }
   ],
   "source": [
    "data[(data['value']>=0.9) & (data['value']<1)].count()['value']"
   ]
  },
  {
   "cell_type": "code",
   "execution_count": 22,
   "metadata": {},
   "outputs": [
    {
     "data": {
      "text/plain": [
       "10.0"
      ]
     },
     "execution_count": 22,
     "metadata": {},
     "output_type": "execute_result"
    }
   ],
   "source": [
    "(1 - v_min) / binwidth"
   ]
  },
  {
   "cell_type": "code",
   "execution_count": 97,
   "metadata": {},
   "outputs": [],
   "source": [
    "### together with computation of mean, std, min and max\n",
    "### bin count with reduceByKey\n",
    "# global variables\n",
    "nr_bins = 10\n",
    "v_min = 0.0\n",
    "v_max = 1.0\n",
    "binwidth = (v_max - v_min) / nr_bins\n",
    "\n",
    "def read_data(line):\n",
    "    value = float(line.split()[-1])\n",
    "    return value\n",
    "\n",
    "def distribute_data(value):\n",
    "    ### wrong calculation of the bin if have value<min or >max\n",
    "    if value < v_min:\n",
    "        bin_nr = 0\n",
    "    elif value > v_max:\n",
    "        bin_nr = nr_bins - 1\n",
    "    else:\n",
    "        bin_nr = int((value - v_min) / binwidth)\n",
    "    return (bin_nr, (1,value,value**2, value,value))\n",
    "\n",
    "def summary_stats(value1, value2):\n",
    "    bin_min = min(value1[3], value2[3])\n",
    "    bin_max = max(value1[4], value2[4])\n",
    "    bin_sum = value1[1]+value2[1]\n",
    "    bin_sos = value1[4] + value2[4]\n",
    "    bin_count = value1[0] + value2[0]\n",
    "    \n",
    "    return (bin_count, bin_sum,bin_sos,bin_min,bin_max)\n",
    "\n",
    "def reducer(value1, value2):\n",
    "    return (value1[0]+value2[0],value1[1]+value2[1],value1[1][0]+value2[1][0],value1[1][1]+value2[1][1],\n",
    "            value1[0]+value2[0])\n",
    "    \n",
    "from operator import add\n",
    "values = data.map(read_data)\n",
    "values.persist()\n",
    "binNr_v_pairs = values.map(distribute_data)\n",
    "bin_counts = binNr_v_pairs.reduceByKey(summary_stats)\\\n",
    "            .sortByKey()\n",
    "bin_summary = bin_counts.reduce(reducer)"
   ]
  },
  {
   "cell_type": "code",
   "execution_count": 98,
   "metadata": {},
   "outputs": [
    {
     "name": "stdout",
     "output_type": "stream",
     "text": [
      "(45, (103, 4.787481000000001, 0.19472099999999998, 0.000865, 0.098643, 106, 15.963041999999998, 0.39830699999999997, 0.101741, 0.199209, 97, 24.068529000000005, 0.590312, 0.200086, 0.2996, 95, 33.616541, 0.79809, 0.302967, 0.399237, 101, 44.860499999999995, 0.998665, 0.400814, 0.499703, 109, 59.27462900000002, 1.198912, 0.502095, 0.599647, 105, 68.021758, 1.398489, 0.600132, 0.699909, 98, 73.628231, 1.5983589999999999, 0.70022, 0.79918, 93, 78.96618000000001, 1.795938, 0.801509, 0.89813, 93, 88.067789, 1.995741, 0.900315, 0.999888), 208, 72.809239, 45)\n"
     ]
    }
   ],
   "source": [
    "print(bin_summary)"
   ]
  },
  {
   "cell_type": "code",
   "execution_count": 46,
   "metadata": {},
   "outputs": [
    {
     "ename": "UnboundLocalError",
     "evalue": "local variable 'maximum' referenced before assignment",
     "output_type": "error",
     "traceback": [
      "\u001b[0;31m---------------------------------------------------------------------------\u001b[0m",
      "\u001b[0;31mUnboundLocalError\u001b[0m                         Traceback (most recent call last)",
      "\u001b[0;32m<ipython-input-46-867a8341e0ce>\u001b[0m in \u001b[0;36m<module>\u001b[0;34m()\u001b[0m\n\u001b[1;32m      6\u001b[0m             \u001b[0mmaximum\u001b[0m \u001b[0;34m=\u001b[0m \u001b[0mele\u001b[0m\u001b[0;34m\u001b[0m\u001b[0m\n\u001b[1;32m      7\u001b[0m     \u001b[0;32mreturn\u001b[0m \u001b[0mmaximum\u001b[0m\u001b[0;34m\u001b[0m\u001b[0m\n\u001b[0;32m----> 8\u001b[0;31m \u001b[0ma\u001b[0m\u001b[0;34m(\u001b[0m\u001b[0mA\u001b[0m\u001b[0;34m)\u001b[0m\u001b[0;34m\u001b[0m\u001b[0m\n\u001b[0m",
      "\u001b[0;32m<ipython-input-46-867a8341e0ce>\u001b[0m in \u001b[0;36ma\u001b[0;34m(A)\u001b[0m\n\u001b[1;32m      3\u001b[0m \u001b[0;32mdef\u001b[0m \u001b[0ma\u001b[0m\u001b[0;34m(\u001b[0m\u001b[0mA\u001b[0m\u001b[0;34m)\u001b[0m\u001b[0;34m:\u001b[0m\u001b[0;34m\u001b[0m\u001b[0m\n\u001b[1;32m      4\u001b[0m     \u001b[0;32mfor\u001b[0m \u001b[0mele\u001b[0m \u001b[0;32min\u001b[0m \u001b[0mA\u001b[0m\u001b[0;34m:\u001b[0m\u001b[0;34m\u001b[0m\u001b[0m\n\u001b[0;32m----> 5\u001b[0;31m         \u001b[0;32mif\u001b[0m \u001b[0mele\u001b[0m \u001b[0;34m>\u001b[0m \u001b[0mmaximum\u001b[0m\u001b[0;34m:\u001b[0m\u001b[0;34m\u001b[0m\u001b[0m\n\u001b[0m\u001b[1;32m      6\u001b[0m             \u001b[0mmaximum\u001b[0m \u001b[0;34m=\u001b[0m \u001b[0mele\u001b[0m\u001b[0;34m\u001b[0m\u001b[0m\n\u001b[1;32m      7\u001b[0m     \u001b[0;32mreturn\u001b[0m \u001b[0mmaximum\u001b[0m\u001b[0;34m\u001b[0m\u001b[0m\n",
      "\u001b[0;31mUnboundLocalError\u001b[0m: local variable 'maximum' referenced before assignment"
     ]
    }
   ],
   "source": [
    "maximum = 0\n",
    "A = [1,2,3]\n",
    "def a(A):\n",
    "    for ele in A:\n",
    "        if ele > maximum:\n",
    "            maximum = ele\n",
    "    return maximum\n",
    "a(A)"
   ]
  },
  {
   "cell_type": "code",
   "execution_count": 60,
   "metadata": {},
   "outputs": [
    {
     "data": {
      "text/plain": [
       "(1, 2, 3, 4)"
      ]
     },
     "execution_count": 60,
     "metadata": {},
     "output_type": "execute_result"
    }
   ],
   "source": [
    "(1,2) +(3,4)"
   ]
  },
  {
   "cell_type": "code",
   "execution_count": null,
   "metadata": {},
   "outputs": [],
   "source": []
  }
 ],
 "metadata": {
  "kernelspec": {
   "display_name": "Python [anaconda]",
   "language": "python",
   "name": "Python [anaconda]"
  },
  "language_info": {
   "codemirror_mode": {
    "name": "ipython",
    "version": 3
   },
   "file_extension": ".py",
   "mimetype": "text/x-python",
   "name": "python",
   "nbconvert_exporter": "python",
   "pygments_lexer": "ipython3",
   "version": "3.5.4"
  }
 },
 "nbformat": 4,
 "nbformat_minor": 2
}
