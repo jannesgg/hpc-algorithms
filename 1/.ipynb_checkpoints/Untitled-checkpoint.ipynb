{
 "cells": [
  {
   "cell_type": "code",
   "execution_count": 30,
   "metadata": {},
   "outputs": [],
   "source": [
    "from google.cloud import language\n",
    "from google.cloud.language import types, enums"
   ]
  },
  {
   "cell_type": "code",
   "execution_count": 35,
   "metadata": {},
   "outputs": [],
   "source": [
    "google_authentication_json = 'complianceai-49c329bab220.json'"
   ]
  },
  {
   "cell_type": "code",
   "execution_count": 37,
   "metadata": {},
   "outputs": [],
   "source": [
    "with open(google_authentication_json, \"r\") as f:\n",
    "        credentials_json = f.read()"
   ]
  },
  {
   "cell_type": "code",
   "execution_count": 38,
   "metadata": {},
   "outputs": [],
   "source": [
    "language_client = language.LanguageServiceClient(credentials=credentials_json)"
   ]
  },
  {
   "cell_type": "code",
   "execution_count": 39,
   "metadata": {},
   "outputs": [],
   "source": [
    "sentence = 'my name is peter'"
   ]
  },
  {
   "cell_type": "code",
   "execution_count": 40,
   "metadata": {},
   "outputs": [],
   "source": [
    "document = types.Document(\n",
    "        content=sentence,\n",
    "        type=enums.Document.Type.PLAIN_TEXT)"
   ]
  },
  {
   "cell_type": "code",
   "execution_count": 41,
   "metadata": {},
   "outputs": [
    {
     "name": "stderr",
     "output_type": "stream",
     "text": [
      "ERROR:root:AuthMetadataPluginCallback \"<google.auth.transport.grpc.AuthMetadataPlugin object at 0x10878f9b0>\" raised exception!\n",
      "Traceback (most recent call last):\n",
      "  File \"/anaconda3/lib/python3.6/site-packages/grpc/_plugin_wrapping.py\", line 77, in __call__\n",
      "    callback_state, callback))\n",
      "  File \"/anaconda3/lib/python3.6/site-packages/google/auth/transport/grpc.py\", line 77, in __call__\n",
      "    callback(self._get_authorization_headers(context), None)\n",
      "  File \"/anaconda3/lib/python3.6/site-packages/google/auth/transport/grpc.py\", line 61, in _get_authorization_headers\n",
      "    self._credentials.before_request(\n",
      "AttributeError: 'str' object has no attribute 'before_request'\n",
      "ERROR:root:AuthMetadataPluginCallback \"<google.auth.transport.grpc.AuthMetadataPlugin object at 0x10878f9b0>\" raised exception!\n",
      "Traceback (most recent call last):\n",
      "  File \"/anaconda3/lib/python3.6/site-packages/grpc/_plugin_wrapping.py\", line 77, in __call__\n",
      "    callback_state, callback))\n",
      "  File \"/anaconda3/lib/python3.6/site-packages/google/auth/transport/grpc.py\", line 77, in __call__\n",
      "    callback(self._get_authorization_headers(context), None)\n",
      "  File \"/anaconda3/lib/python3.6/site-packages/google/auth/transport/grpc.py\", line 61, in _get_authorization_headers\n",
      "    self._credentials.before_request(\n",
      "AttributeError: 'str' object has no attribute 'before_request'\n",
      "ERROR:root:AuthMetadataPluginCallback \"<google.auth.transport.grpc.AuthMetadataPlugin object at 0x10878f9b0>\" raised exception!\n",
      "Traceback (most recent call last):\n",
      "  File \"/anaconda3/lib/python3.6/site-packages/grpc/_plugin_wrapping.py\", line 77, in __call__\n",
      "    callback_state, callback))\n",
      "  File \"/anaconda3/lib/python3.6/site-packages/google/auth/transport/grpc.py\", line 77, in __call__\n",
      "    callback(self._get_authorization_headers(context), None)\n",
      "  File \"/anaconda3/lib/python3.6/site-packages/google/auth/transport/grpc.py\", line 61, in _get_authorization_headers\n",
      "    self._credentials.before_request(\n",
      "AttributeError: 'str' object has no attribute 'before_request'\n",
      "ERROR:root:AuthMetadataPluginCallback \"<google.auth.transport.grpc.AuthMetadataPlugin object at 0x10878f9b0>\" raised exception!\n",
      "Traceback (most recent call last):\n",
      "  File \"/anaconda3/lib/python3.6/site-packages/grpc/_plugin_wrapping.py\", line 77, in __call__\n",
      "    callback_state, callback))\n",
      "  File \"/anaconda3/lib/python3.6/site-packages/google/auth/transport/grpc.py\", line 77, in __call__\n",
      "    callback(self._get_authorization_headers(context), None)\n",
      "  File \"/anaconda3/lib/python3.6/site-packages/google/auth/transport/grpc.py\", line 61, in _get_authorization_headers\n",
      "    self._credentials.before_request(\n",
      "AttributeError: 'str' object has no attribute 'before_request'\n",
      "ERROR:root:AuthMetadataPluginCallback \"<google.auth.transport.grpc.AuthMetadataPlugin object at 0x10878f9b0>\" raised exception!\n",
      "Traceback (most recent call last):\n",
      "  File \"/anaconda3/lib/python3.6/site-packages/grpc/_plugin_wrapping.py\", line 77, in __call__\n",
      "    callback_state, callback))\n",
      "  File \"/anaconda3/lib/python3.6/site-packages/google/auth/transport/grpc.py\", line 77, in __call__\n",
      "    callback(self._get_authorization_headers(context), None)\n",
      "  File \"/anaconda3/lib/python3.6/site-packages/google/auth/transport/grpc.py\", line 61, in _get_authorization_headers\n",
      "    self._credentials.before_request(\n",
      "AttributeError: 'str' object has no attribute 'before_request'\n",
      "ERROR:root:AuthMetadataPluginCallback \"<google.auth.transport.grpc.AuthMetadataPlugin object at 0x10878f9b0>\" raised exception!\n",
      "Traceback (most recent call last):\n",
      "  File \"/anaconda3/lib/python3.6/site-packages/grpc/_plugin_wrapping.py\", line 77, in __call__\n",
      "    callback_state, callback))\n",
      "  File \"/anaconda3/lib/python3.6/site-packages/google/auth/transport/grpc.py\", line 77, in __call__\n",
      "    callback(self._get_authorization_headers(context), None)\n",
      "  File \"/anaconda3/lib/python3.6/site-packages/google/auth/transport/grpc.py\", line 61, in _get_authorization_headers\n",
      "    self._credentials.before_request(\n",
      "AttributeError: 'str' object has no attribute 'before_request'\n",
      "ERROR:root:AuthMetadataPluginCallback \"<google.auth.transport.grpc.AuthMetadataPlugin object at 0x10878f9b0>\" raised exception!\n",
      "Traceback (most recent call last):\n",
      "  File \"/anaconda3/lib/python3.6/site-packages/grpc/_plugin_wrapping.py\", line 77, in __call__\n",
      "    callback_state, callback))\n",
      "  File \"/anaconda3/lib/python3.6/site-packages/google/auth/transport/grpc.py\", line 77, in __call__\n",
      "    callback(self._get_authorization_headers(context), None)\n",
      "  File \"/anaconda3/lib/python3.6/site-packages/google/auth/transport/grpc.py\", line 61, in _get_authorization_headers\n",
      "    self._credentials.before_request(\n",
      "AttributeError: 'str' object has no attribute 'before_request'\n",
      "ERROR:root:AuthMetadataPluginCallback \"<google.auth.transport.grpc.AuthMetadataPlugin object at 0x10878f9b0>\" raised exception!\n",
      "Traceback (most recent call last):\n",
      "  File \"/anaconda3/lib/python3.6/site-packages/grpc/_plugin_wrapping.py\", line 77, in __call__\n",
      "    callback_state, callback))\n",
      "  File \"/anaconda3/lib/python3.6/site-packages/google/auth/transport/grpc.py\", line 77, in __call__\n",
      "    callback(self._get_authorization_headers(context), None)\n",
      "  File \"/anaconda3/lib/python3.6/site-packages/google/auth/transport/grpc.py\", line 61, in _get_authorization_headers\n",
      "    self._credentials.before_request(\n",
      "AttributeError: 'str' object has no attribute 'before_request'\n",
      "ERROR:root:AuthMetadataPluginCallback \"<google.auth.transport.grpc.AuthMetadataPlugin object at 0x10878f9b0>\" raised exception!\n",
      "Traceback (most recent call last):\n",
      "  File \"/anaconda3/lib/python3.6/site-packages/grpc/_plugin_wrapping.py\", line 77, in __call__\n",
      "    callback_state, callback))\n",
      "  File \"/anaconda3/lib/python3.6/site-packages/google/auth/transport/grpc.py\", line 77, in __call__\n",
      "    callback(self._get_authorization_headers(context), None)\n",
      "  File \"/anaconda3/lib/python3.6/site-packages/google/auth/transport/grpc.py\", line 61, in _get_authorization_headers\n",
      "    self._credentials.before_request(\n",
      "AttributeError: 'str' object has no attribute 'before_request'\n",
      "ERROR:root:AuthMetadataPluginCallback \"<google.auth.transport.grpc.AuthMetadataPlugin object at 0x10878f9b0>\" raised exception!\n",
      "Traceback (most recent call last):\n",
      "  File \"/anaconda3/lib/python3.6/site-packages/grpc/_plugin_wrapping.py\", line 77, in __call__\n",
      "    callback_state, callback))\n",
      "  File \"/anaconda3/lib/python3.6/site-packages/google/auth/transport/grpc.py\", line 77, in __call__\n",
      "    callback(self._get_authorization_headers(context), None)\n",
      "  File \"/anaconda3/lib/python3.6/site-packages/google/auth/transport/grpc.py\", line 61, in _get_authorization_headers\n",
      "    self._credentials.before_request(\n",
      "AttributeError: 'str' object has no attribute 'before_request'\n",
      "ERROR:root:AuthMetadataPluginCallback \"<google.auth.transport.grpc.AuthMetadataPlugin object at 0x10878f9b0>\" raised exception!\n",
      "Traceback (most recent call last):\n",
      "  File \"/anaconda3/lib/python3.6/site-packages/grpc/_plugin_wrapping.py\", line 77, in __call__\n",
      "    callback_state, callback))\n",
      "  File \"/anaconda3/lib/python3.6/site-packages/google/auth/transport/grpc.py\", line 77, in __call__\n",
      "    callback(self._get_authorization_headers(context), None)\n",
      "  File \"/anaconda3/lib/python3.6/site-packages/google/auth/transport/grpc.py\", line 61, in _get_authorization_headers\n",
      "    self._credentials.before_request(\n",
      "AttributeError: 'str' object has no attribute 'before_request'\n",
      "ERROR:root:AuthMetadataPluginCallback \"<google.auth.transport.grpc.AuthMetadataPlugin object at 0x10878f9b0>\" raised exception!\n",
      "Traceback (most recent call last):\n",
      "  File \"/anaconda3/lib/python3.6/site-packages/grpc/_plugin_wrapping.py\", line 77, in __call__\n",
      "    callback_state, callback))\n",
      "  File \"/anaconda3/lib/python3.6/site-packages/google/auth/transport/grpc.py\", line 77, in __call__\n",
      "    callback(self._get_authorization_headers(context), None)\n",
      "  File \"/anaconda3/lib/python3.6/site-packages/google/auth/transport/grpc.py\", line 61, in _get_authorization_headers\n",
      "    self._credentials.before_request(\n",
      "AttributeError: 'str' object has no attribute 'before_request'\n"
     ]
    },
    {
     "ename": "KeyboardInterrupt",
     "evalue": "",
     "output_type": "error",
     "traceback": [
      "\u001b[0;31m---------------------------------------------------------------------------\u001b[0m",
      "\u001b[0;31mKeyboardInterrupt\u001b[0m                         Traceback (most recent call last)",
      "\u001b[0;32m<ipython-input-41-d8a03ffbc861>\u001b[0m in \u001b[0;36m<module>\u001b[0;34m()\u001b[0m\n\u001b[0;32m----> 1\u001b[0;31m \u001b[0msentiment\u001b[0m \u001b[0;34m=\u001b[0m \u001b[0mlanguage_client\u001b[0m\u001b[0;34m.\u001b[0m\u001b[0manalyze_sentiment\u001b[0m\u001b[0;34m(\u001b[0m\u001b[0mdocument\u001b[0m\u001b[0;34m=\u001b[0m\u001b[0mdocument\u001b[0m\u001b[0;34m)\u001b[0m\u001b[0;34m.\u001b[0m\u001b[0mdocument_sentiment\u001b[0m\u001b[0;34m\u001b[0m\u001b[0m\n\u001b[0m",
      "\u001b[0;32m/anaconda3/lib/python3.6/site-packages/google/cloud/language_v1/gapic/language_service_client.py\u001b[0m in \u001b[0;36manalyze_sentiment\u001b[0;34m(self, document, encoding_type, retry, timeout)\u001b[0m\n\u001b[1;32m    178\u001b[0m         request = language_service_pb2.AnalyzeSentimentRequest(\n\u001b[1;32m    179\u001b[0m             document=document, encoding_type=encoding_type)\n\u001b[0;32m--> 180\u001b[0;31m         \u001b[0;32mreturn\u001b[0m \u001b[0mself\u001b[0m\u001b[0;34m.\u001b[0m\u001b[0m_analyze_sentiment\u001b[0m\u001b[0;34m(\u001b[0m\u001b[0mrequest\u001b[0m\u001b[0;34m,\u001b[0m \u001b[0mretry\u001b[0m\u001b[0;34m=\u001b[0m\u001b[0mretry\u001b[0m\u001b[0;34m,\u001b[0m \u001b[0mtimeout\u001b[0m\u001b[0;34m=\u001b[0m\u001b[0mtimeout\u001b[0m\u001b[0;34m)\u001b[0m\u001b[0;34m\u001b[0m\u001b[0m\n\u001b[0m\u001b[1;32m    181\u001b[0m \u001b[0;34m\u001b[0m\u001b[0m\n\u001b[1;32m    182\u001b[0m     def analyze_entities(self,\n",
      "\u001b[0;32m/anaconda3/lib/python3.6/site-packages/google/api_core/gapic_v1/method.py\u001b[0m in \u001b[0;36m__call__\u001b[0;34m(self, *args, **kwargs)\u001b[0m\n\u001b[1;32m    137\u001b[0m             \u001b[0mkwargs\u001b[0m\u001b[0;34m[\u001b[0m\u001b[0;34m'metadata'\u001b[0m\u001b[0;34m]\u001b[0m \u001b[0;34m=\u001b[0m \u001b[0mmetadata\u001b[0m\u001b[0;34m\u001b[0m\u001b[0m\n\u001b[1;32m    138\u001b[0m \u001b[0;34m\u001b[0m\u001b[0m\n\u001b[0;32m--> 139\u001b[0;31m         \u001b[0;32mreturn\u001b[0m \u001b[0mwrapped_func\u001b[0m\u001b[0;34m(\u001b[0m\u001b[0;34m*\u001b[0m\u001b[0margs\u001b[0m\u001b[0;34m,\u001b[0m \u001b[0;34m**\u001b[0m\u001b[0mkwargs\u001b[0m\u001b[0;34m)\u001b[0m\u001b[0;34m\u001b[0m\u001b[0m\n\u001b[0m\u001b[1;32m    140\u001b[0m \u001b[0;34m\u001b[0m\u001b[0m\n\u001b[1;32m    141\u001b[0m \u001b[0;34m\u001b[0m\u001b[0m\n",
      "\u001b[0;32m/anaconda3/lib/python3.6/site-packages/google/api_core/retry.py\u001b[0m in \u001b[0;36mretry_wrapped_func\u001b[0;34m(*args, **kwargs)\u001b[0m\n\u001b[1;32m    258\u001b[0m                 \u001b[0msleep_generator\u001b[0m\u001b[0;34m,\u001b[0m\u001b[0;34m\u001b[0m\u001b[0m\n\u001b[1;32m    259\u001b[0m                 \u001b[0mself\u001b[0m\u001b[0;34m.\u001b[0m\u001b[0m_deadline\u001b[0m\u001b[0;34m,\u001b[0m\u001b[0;34m\u001b[0m\u001b[0m\n\u001b[0;32m--> 260\u001b[0;31m                 \u001b[0mon_error\u001b[0m\u001b[0;34m=\u001b[0m\u001b[0mon_error\u001b[0m\u001b[0;34m,\u001b[0m\u001b[0;34m\u001b[0m\u001b[0m\n\u001b[0m\u001b[1;32m    261\u001b[0m             )\n\u001b[1;32m    262\u001b[0m \u001b[0;34m\u001b[0m\u001b[0m\n",
      "\u001b[0;32m/anaconda3/lib/python3.6/site-packages/google/api_core/retry.py\u001b[0m in \u001b[0;36mretry_target\u001b[0;34m(target, predicate, sleep_generator, deadline, on_error)\u001b[0m\n\u001b[1;32m    197\u001b[0m         _LOGGER.debug('Retrying due to {}, sleeping {:.1f}s ...'.format(\n\u001b[1;32m    198\u001b[0m             last_exc, sleep))\n\u001b[0;32m--> 199\u001b[0;31m         \u001b[0mtime\u001b[0m\u001b[0;34m.\u001b[0m\u001b[0msleep\u001b[0m\u001b[0;34m(\u001b[0m\u001b[0msleep\u001b[0m\u001b[0;34m)\u001b[0m\u001b[0;34m\u001b[0m\u001b[0m\n\u001b[0m\u001b[1;32m    200\u001b[0m \u001b[0;34m\u001b[0m\u001b[0m\n\u001b[1;32m    201\u001b[0m     \u001b[0;32mraise\u001b[0m \u001b[0mValueError\u001b[0m\u001b[0;34m(\u001b[0m\u001b[0;34m'Sleep generator stopped yielding sleep values.'\u001b[0m\u001b[0;34m)\u001b[0m\u001b[0;34m\u001b[0m\u001b[0m\n",
      "\u001b[0;31mKeyboardInterrupt\u001b[0m: "
     ]
    }
   ],
   "source": [
    "sentiment = language_client.analyze_sentiment(document=document)"
   ]
  },
  {
   "cell_type": "code",
   "execution_count": null,
   "metadata": {},
   "outputs": [],
   "source": []
  }
 ],
 "metadata": {
  "kernelspec": {
   "display_name": "Python 3",
   "language": "python",
   "name": "python3"
  },
  "language_info": {
   "codemirror_mode": {
    "name": "ipython",
    "version": 3
   },
   "file_extension": ".py",
   "mimetype": "text/x-python",
   "name": "python",
   "nbconvert_exporter": "python",
   "pygments_lexer": "ipython3",
   "version": "3.6.3"
  }
 },
 "nbformat": 4,
 "nbformat_minor": 2
}
